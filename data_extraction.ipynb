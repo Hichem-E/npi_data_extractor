{
 "cells": [
  {
   "cell_type": "markdown",
   "id": "fd41de31",
   "metadata": {},
   "source": [
    "# notebook detailing the lazy load method of polars"
   ]
  },
  {
   "cell_type": "code",
   "execution_count": null,
   "id": "c32fad79",
   "metadata": {},
   "outputs": [],
   "source": [
    "import polars as pl"
   ]
  },
  {
   "cell_type": "markdown",
   "id": "34fdfa58",
   "metadata": {},
   "source": [
    "# Polars implementation\n",
    "### Snapshot of row count July 2025 data - 9026996 \n",
    "### 330 rows"
   ]
  },
  {
   "cell_type": "code",
   "execution_count": null,
   "id": "9ed36bdf",
   "metadata": {},
   "outputs": [],
   "source": [
    "csv_reader = pl.read_csv_batched(\"npidata_pfile_20050523-20250713.csv\", has_header=True, batch_size=10000)"
   ]
  },
  {
   "cell_type": "code",
   "execution_count": null,
   "id": "3658d23b",
   "metadata": {},
   "outputs": [],
   "source": [
    "q1 = (\n",
    "    pl.scan_csv(\"npidata_pfile_20050523-20250713.csv\").filter(pl.col(\"Provider Business Practice Location Address State Name\") == \"MI\"))\n",
    "q1"
   ]
  },
  {
   "cell_type": "code",
   "execution_count": null,
   "id": "6eb1eabc",
   "metadata": {},
   "outputs": [],
   "source": [
    "pldf = q1.collect()"
   ]
  },
  {
   "cell_type": "code",
   "execution_count": null,
   "id": "b57fbfab",
   "metadata": {},
   "outputs": [],
   "source": [
    "pldf.columns"
   ]
  },
  {
   "cell_type": "code",
   "execution_count": null,
   "id": "8ff756a5",
   "metadata": {},
   "outputs": [],
   "source": [
    "pldf.write_csv(\"/mnt/c/Users/hiche/Documents/repos/mi_filter_npidata_test.csv\")"
   ]
  },
  {
   "cell_type": "markdown",
   "id": "e05c1db8",
   "metadata": {},
   "source": [
    "# more filtering"
   ]
  },
  {
   "cell_type": "code",
   "execution_count": null,
   "id": "90e9a478",
   "metadata": {},
   "outputs": [],
   "source": [
    "business_pldf = pldf.filter(pl.col(\"Entity Type Code\") == \"2\")"
   ]
  },
  {
   "cell_type": "code",
   "execution_count": null,
   "id": "b2c399b4",
   "metadata": {},
   "outputs": [],
   "source": [
    "# entity type 2 is for business, not personnell\n",
    "mich_cities_2 = business_pldf[\"Provider Business Practice Location Address City Name\"].value_counts()\n",
    "d_cities_2 = mich_cities_2.sort(\"count\", descending=True).to_dict(as_series=False)\n",
    "cities_2 = d_cities_2[\"Provider Business Practice Location Address City Name\"]\n",
    "counts_2 = d_cities_2[\"count\"]\n",
    "\n",
    "print(\"This is a list of entity type 2 locations out of Michigan, aggregated by city\")\n",
    "for i in range(len(cities_2)):\n",
    "    print(f\"{cities_2[i]}: {counts_2[i]} provider locations\")"
   ]
  },
  {
   "cell_type": "code",
   "execution_count": null,
   "id": "59e6a345",
   "metadata": {},
   "outputs": [],
   "source": [
    "print(len(pldf))\n",
    "print(len(business_pldf))\n",
    "print(len(business_pldf)/len(pldf))"
   ]
  },
  {
   "cell_type": "code",
   "execution_count": null,
   "id": "24ba5c6d",
   "metadata": {},
   "outputs": [],
   "source": [
    "enum_dates = pldf[\"Provider Enumeration Date\"]\n",
    "enum_dates"
   ]
  },
  {
   "cell_type": "code",
   "execution_count": null,
   "id": "1837d51c",
   "metadata": {},
   "outputs": [],
   "source": [
    "mich_cities = pldf[\"Provider Business Practice Location Address City Name\"].value_counts()"
   ]
  },
  {
   "cell_type": "code",
   "execution_count": null,
   "id": "895bad57",
   "metadata": {},
   "outputs": [],
   "source": [
    "d_cities = mich_cities.sort(\"count\", descending=True).to_dict(as_series=False)"
   ]
  },
  {
   "cell_type": "code",
   "execution_count": null,
   "id": "bc7d67b5",
   "metadata": {},
   "outputs": [],
   "source": [
    "cities = d_cities[\"Provider Business Practice Location Address City Name\"]\n",
    "counts = d_cities[\"count\"]\n",
    "\n",
    "print(\"This is a list of ALL entities out of Michigan, aggregated by city\")\n",
    "for i in range(len(cities)):\n",
    "    print(f\"{cities[i]}: {counts[i]} doctors/provider locations\")"
   ]
  },
  {
   "cell_type": "code",
   "execution_count": null,
   "id": "142035a4",
   "metadata": {},
   "outputs": [],
   "source": [
    "d_cities[\"Provider Business Practice Location Address City Name\"][0]"
   ]
  },
  {
   "cell_type": "code",
   "execution_count": null,
   "id": "62fffe68",
   "metadata": {},
   "outputs": [],
   "source": [
    "d_cities.keys()"
   ]
  },
  {
   "cell_type": "code",
   "execution_count": null,
   "id": "2e04ab26",
   "metadata": {},
   "outputs": [],
   "source": []
  }
 ],
 "metadata": {
  "kernelspec": {
   "display_name": "nppes",
   "language": "python",
   "name": "python3"
  },
  "language_info": {
   "codemirror_mode": {
    "name": "ipython",
    "version": 3
   },
   "file_extension": ".py",
   "mimetype": "text/x-python",
   "name": "python",
   "nbconvert_exporter": "python",
   "pygments_lexer": "ipython3",
   "version": "3.12.3"
  }
 },
 "nbformat": 4,
 "nbformat_minor": 5
}
